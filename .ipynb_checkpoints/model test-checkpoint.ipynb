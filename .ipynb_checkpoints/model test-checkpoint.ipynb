{
 "cells": [
  {
   "cell_type": "code",
   "execution_count": 1,
   "id": "daedaae3-36d6-4d40-ada1-3778bd547edc",
   "metadata": {},
   "outputs": [],
   "source": [
    "import numpy as np\n",
    "import pandas as pd\n",
    "import seaborn as sns\n",
    "sns.set()\n",
    "import matplotlib.pyplot as plt\n",
    "from tqdm.notebook import tqdm\n",
    "import warnings\n",
    "warnings.filterwarnings('ignore')\n",
    "\n",
    "from util import train_test_split, gen_dataset\n",
    "from sample_weights import sample_weights, time_decay\n",
    "from fractionally_differentiated_features import get_diff_factor, frac_diff_ffd\n",
    "from financial_data_structure import cusum"
   ]
  },
  {
   "cell_type": "code",
   "execution_count": null,
   "id": "ecfda48f-d349-4939-b82d-fdd4839158c4",
   "metadata": {},
   "outputs": [],
   "source": [
    "data = pd.read_csv('data/BTCSPOT_300.csv', index_col=0, parse_dates=True)\n",
    "dataset = gen_dataset(data)\n",
    "index_ls = train_test_split(dataset, "
   ]
  }
 ],
 "metadata": {
  "kernelspec": {
   "display_name": "Python 3.7.11 64-bit ('aifml': conda)",
   "language": "python",
   "name": "python3711jvsc74a57bd087758af886e8d50f7f8a1fa2948aba08ee0ab66240e727f6faef99f4d1fd9f5a"
  },
  "language_info": {
   "codemirror_mode": {
    "name": "ipython",
    "version": 3
   },
   "file_extension": ".py",
   "mimetype": "text/x-python",
   "name": "python",
   "nbconvert_exporter": "python",
   "pygments_lexer": "ipython3",
   "version": "3.7.11"
  }
 },
 "nbformat": 4,
 "nbformat_minor": 5
}

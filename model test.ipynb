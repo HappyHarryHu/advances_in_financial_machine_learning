{
 "cells": [
  {
   "cell_type": "code",
   "execution_count": null,
   "source": [
    "import numpy as np\n",
    "import pandas as pd\n",
    "import seaborn as sns\n",
    "sns.set()\n",
    "import matplotlib.pyplot as plt\n",
    "from tqdm.notebook import tqdm\n",
    "import warnings\n",
    "warnings.filterwarnings('ignore')\n",
    "from sklearn.linear_model import LogisticRegression\n",
    "from sklearn.metrics import recall_score, precision_score, f1_score, precision_recall_curve, roc_auc_score\n",
    "from xgboost import XGBClassifier\n",
    "\n",
    "from util import train_test_split, gen_dataset\n",
    "from sample_weights import uniqueness_matrix, sample_weights, time_decay\n",
    "from fractionally_differentiated_features import get_diff_factor, frac_diff_ffd\n",
    "from financial_data_structure import cusum"
   ],
   "outputs": [],
   "metadata": {}
  },
  {
   "cell_type": "code",
   "execution_count": null,
   "source": [
    "def get_best_f1(y_test, y_pred):\n",
    "    precision, recall, threshold = precision_recall_curve(y_test, y_pred)\n",
    "    f1_score = 2*precision*recall / (precision+recall)\n",
    "    return np.nanmax(f1_score), threshold[np.nanargmax(f1_score)]"
   ],
   "outputs": [],
   "metadata": {}
  },
  {
   "cell_type": "code",
   "execution_count": null,
   "source": [
    "data = pd.read_csv('data/BTCSPOT_300.csv', index_col=0, parse_dates=True)\n",
    "side = pd.read_csv('data/side_labeling.csv', index_col=0, parse_dates=True)\n",
    "long_size = pd.read_csv('data/long_labeling.csv', index_col=0, parse_dates=True)\n",
    "short_size = pd.read_csv('data/short_labeling.csv', index_col=0, parse_dates=True)\n",
    "data = data.loc[:side.index[-1]]\n",
    "dataset = gen_dataset(data)\n",
    "index_ls = train_test_split(dataset, 90, 7, 1)"
   ],
   "outputs": [],
   "metadata": {}
  },
  {
   "cell_type": "code",
   "execution_count": 2,
   "source": [
    "space = [\n",
    "    {'window': (365, 30, 1)},\n",
    "    {'window': (180, 14, 1)},\n",
    "    {'window': (90, 7, 1)},\n",
    "    {'window': (30, 3, 1)},\n",
    "    {'window': (7, 1, 1)},\n",
    "]"
   ],
   "outputs": [],
   "metadata": {}
  },
  {
   "cell_type": "code",
   "execution_count": null,
   "source": [
    "result = []\n",
    "for config in space:\n",
    "    index_ls = train_test_split(dataset, *config['window'])\n",
    "    scores, long_idx = {}, []\n",
    "    for train_idx, test_idx in tqdm(index_ls[:5]):\n",
    "        X_train, X_test = dataset.loc[train_idx], dataset.loc[test_idx]\n",
    "        y_train, y_test = side.loc[X_train.index, 'bin'], side.loc[X_test.index, 'bin']\n",
    "        model = XGBClassifier(eval_metric='logloss', seed=1014)\n",
    "        model.fit(X_train, y_train)\n",
    "        y_pred_train = model.predict_proba(X_train)[:,1]\n",
    "        _f1, threshold = get_best_f1(y_train, y_pred_train)\n",
    "        y_pred_test = model.predict_proba(X_test)[:,1]\n",
    "        recall = recall_score(y_test, y_pred_test >= threshold)\n",
    "        precision = precision_score(y_test, y_pred_test >= threshold)\n",
    "        f1 = f1_score(y_test, y_pred_test >= threshold)\n",
    "        auc = roc_auc_score(y_test, y_pred_test)\n",
    "        scores[test_idx[-1]] = (recall, precision, f1, auc, threshold)\n",
    "        long_idx.append(y_test.index[y_pred_test >= threshold])\n",
    "    result.append(pd.DataFrame(scores, index=['recall', 'precision', 'f1', 'auc', 'threshold']).T)"
   ],
   "outputs": [],
   "metadata": {}
  },
  {
   "cell_type": "code",
   "execution_count": null,
   "source": [
    "pd.concat(map(lambda x: x.mean(), result))"
   ],
   "outputs": [],
   "metadata": {}
  },
  {
   "cell_type": "code",
   "execution_count": null,
   "source": [
    "plt.figure(figsize=(24,8))\n",
    "result = pd.DataFrame(scores).T\n",
    "result.columns = ['recall', 'precision', 'f1', 'auc', 'threshold']\n",
    "sns.lineplot(x=result.index, y=result['recall'])\n",
    "sns.lineplot(x=result.index, y=result['precision'])\n",
    "sns.lineplot(x=result.index, y=result['f1'])\n",
    "sns.lineplot(x=result.index, y=result['auc'])\n",
    "sns.lineplot(x=result.index, y=result['threshold'])\n",
    "plt.legend(result.columns)\n",
    "plt.show()\n",
    "result.mean()"
   ],
   "outputs": [],
   "metadata": {}
  },
  {
   "cell_type": "code",
   "execution_count": null,
   "source": [
    "scores = {}\n",
    "for (train_idx, _), test_idx in tqdm(zip(index_ls, long_idx), total=len(index_ls)):\n",
    "    X_train, X_test = dataset.loc[train_idx], dataset.loc[test_idx]\n",
    "    y_train, y_test = long_size.loc[X_train.index, 'bin'], long_size.loc[X_test.index, 'bin']\n",
    "    model = XGBClassifier(eval_metric='logloss')\n",
    "    model.fit(X_train, y_train)\n",
    "    y_pred_test = model.predict_proba(X_test)[:,1]\n",
    "    auc = roc_auc_score(y_test, y_pred_test)\n",
    "    scores[test_idx[-1]] = (len(test_idx)/len(_), auc)"
   ],
   "outputs": [],
   "metadata": {}
  },
  {
   "cell_type": "code",
   "execution_count": null,
   "source": [
    "plt.figure(figsize=(24,8))\n",
    "result = pd.DataFrame(scores).T\n",
    "result.columns = ['trade_ratio', 'auc']\n",
    "sns.lineplot(x=result.index, y=result['trade_ratio'])\n",
    "sns.lineplot(x=result.index, y=result['auc'])\n",
    "plt.legend(result.columns)\n",
    "plt.show()"
   ],
   "outputs": [],
   "metadata": {}
  },
  {
   "cell_type": "code",
   "execution_count": null,
   "source": [],
   "outputs": [],
   "metadata": {}
  }
 ],
 "metadata": {
  "kernelspec": {
   "name": "python3",
   "display_name": "Python 3.7.11 64-bit ('aifml': conda)"
  },
  "language_info": {
   "codemirror_mode": {
    "name": "ipython",
    "version": 3
   },
   "file_extension": ".py",
   "mimetype": "text/x-python",
   "name": "python",
   "nbconvert_exporter": "python",
   "pygments_lexer": "ipython3",
   "version": "3.7.11"
  },
  "interpreter": {
   "hash": "8be6f0e4596049ef38b26d25ceff6fee3c9664c116ff482e2e5dc469a8cd19eb"
  }
 },
 "nbformat": 4,
 "nbformat_minor": 5
}